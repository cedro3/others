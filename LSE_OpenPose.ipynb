{
  "nbformat": 4,
  "nbformat_minor": 0,
  "metadata": {
    "accelerator": "GPU",
    "colab": {
      "name": "LSE OpenPose",
      "provenance": [],
      "collapsed_sections": [],
      "include_colab_link": true
    },
    "kernelspec": {
      "display_name": "Python 3",
      "language": "python",
      "name": "python3"
    },
    "language_info": {
      "codemirror_mode": {
        "name": "ipython",
        "version": 3
      },
      "file_extension": ".py",
      "mimetype": "text/x-python",
      "name": "python",
      "nbconvert_exporter": "python",
      "pygments_lexer": "ipython3",
      "version": "3.7.9"
    }
  },
  "cells": [
    {
      "cell_type": "markdown",
      "metadata": {
        "id": "view-in-github",
        "colab_type": "text"
      },
      "source": [
        "<a href=\"https://colab.research.google.com/github/cedro3/others/blob/master/LSE_OpenPose.ipynb\" target=\"_parent\"><img src=\"https://colab.research.google.com/assets/colab-badge.svg\" alt=\"Open In Colab\"/></a>"
      ]
    },
    {
      "cell_type": "markdown",
      "metadata": {
        "id": "X38L6tanrnrB"
      },
      "source": [
        "## セットアップ"
      ]
    },
    {
      "cell_type": "code",
      "metadata": {
        "id": "FOdkDhb6ga6N"
      },
      "source": [
        "import os\n",
        "from os.path import exists, join, basename, splitext\n",
        "\n",
        "git_repo_url = 'https://github.com/CMU-Perceptual-Computing-Lab/openpose.git'\n",
        "project_name = splitext(basename(git_repo_url))[0]\n",
        "if not exists(project_name):\n",
        "  # see: https://github.com/CMU-Perceptual-Computing-Lab/openpose/issues/949\n",
        "  # install new CMake becaue of CUDA10\n",
        "  !wget -q https://cmake.org/files/v3.13/cmake-3.13.0-Linux-x86_64.tar.gz\n",
        "  !tar xfz cmake-3.13.0-Linux-x86_64.tar.gz --strip-components=1 -C /usr/local\n",
        "  # clone openpose\n",
        "  !git clone -q --depth 1 $git_repo_url\n",
        "  !sed -i 's/execute_process(COMMAND git checkout master WORKING_DIRECTORY ${CMAKE_SOURCE_DIR}\\/3rdparty\\/caffe)/execute_process(COMMAND git checkout f019d0dfe86f49d1140961f8c7dec22130c83154 WORKING_DIRECTORY ${CMAKE_SOURCE_DIR}\\/3rdparty\\/caffe)/g' openpose/CMakeLists.txt\n",
        "  # install system dependencies\n",
        "  !apt-get -qq install -y libatlas-base-dev libprotobuf-dev libleveldb-dev libsnappy-dev libhdf5-serial-dev protobuf-compiler libgflags-dev libgoogle-glog-dev liblmdb-dev opencl-headers ocl-icd-opencl-dev libviennacl-dev\n",
        "  # install python dependencies\n",
        "  !pip install -q youtube-dl\n",
        "  # build openpose\n",
        "  !cd openpose && rm -rf build || true && mkdir build && cd build && cmake .. && make -j`nproc`"
      ],
      "execution_count": null,
      "outputs": []
    },
    {
      "cell_type": "markdown",
      "metadata": {
        "id": "Lb_XpZ1OyUCQ"
      },
      "source": [
        "・現在、pose_iter_584000.caffemodel のダウンロードリンクが切れていて、下記エラーが発生しますので、次のエラーパッチで対応します。\\\n",
        "-- Configuring incomplete, errors occurred!"
      ]
    },
    {
      "cell_type": "markdown",
      "metadata": {
        "id": "87e0cQ_VumyH"
      },
      "source": [
        "## エラーパッチの実行\n",
        "・別リンクから pose_iter_584000.caffemodel をダウンロードして、再度ビルドします。"
      ]
    },
    {
      "cell_type": "code",
      "metadata": {
        "id": "io5eS6iXumCy"
      },
      "source": [
        "# download pose_iter_584000.caffemodel\n",
        "import gdown\n",
        "import shutil\n",
        "gdown.download('https://drive.google.com/u/1/uc?id=138o-pSTOnBkYRA4B0bGxjVe3nsvz3x3f', 'pose.zip', quiet=False)\n",
        "! unzip pose.zip\n",
        "shutil.copy('./pose_iter_584000.caffemodel', './openpose/models/pose/body_25/pose_iter_584000.caffemodel')\n",
        "\n",
        "# build openpose again\n",
        "!cd openpose && rm -rf build || true && mkdir build && cd build && cmake .. && make -j`nproc`  "
      ],
      "execution_count": null,
      "outputs": []
    },
    {
      "cell_type": "markdown",
      "metadata": {
        "id": "n5L3Z5YVrZ2R"
      },
      "source": [
        "## ダウンロードする Youtube ビデオの確認"
      ]
    },
    {
      "cell_type": "code",
      "metadata": {
        "id": "xIt-eyIDO6XG"
      },
      "source": [
        "from IPython.display import YouTubeVideo\n",
        "YOUTUBE_ID ='Sa3k_7ZtoCA'\n",
        "YouTubeVideo(YOUTUBE_ID)"
      ],
      "execution_count": null,
      "outputs": []
    },
    {
      "cell_type": "markdown",
      "metadata": {
        "id": "5qq6g97DwMON"
      },
      "source": [
        "## Youtube ビデオのダウンロードと編集\n",
        "・ビデオをダウンロードし20秒に編集して、content/video.mp4に保存します。"
      ]
    },
    {
      "cell_type": "code",
      "metadata": {
        "id": "oNASdyyiO65I"
      },
      "source": [
        "# download the youtube with the given ID\n",
        "!youtube-dl -f 'bestvideo[ext=mp4]' --output \"youtube.%(ext)s\" https://www.youtube.com/watch?v=$YOUTUBE_ID\n",
        "# cut the seconds 20 from 03:13\n",
        "!ffmpeg -y -loglevel info -i youtube.mp4 -ss 00:03:13.0 -t 20 video.mp4"
      ],
      "execution_count": null,
      "outputs": []
    },
    {
      "cell_type": "markdown",
      "metadata": {
        "id": "pPiFxw36wjsL"
      },
      "source": [
        "## 動画からポーズ推定\n",
        "・content/video.mp4からポーズ推定した動画を作成\\\n",
        "・自分の用意した動画を使う場合は、content/video.mp4を置き換えて下さい。\n"
      ]
    },
    {
      "cell_type": "code",
      "metadata": {
        "id": "knxPE2w9wXX6"
      },
      "source": [
        "# detect poses\n",
        "!cd openpose && ./build/examples/openpose/openpose.bin --video ../video.mp4 --write_json ./output/ --display 0 --write_video ../openpose.avi --face --hand\n",
        "# convert the result into MP4\n",
        "!ffmpeg -y -loglevel info -i openpose.avi output.mp4"
      ],
      "execution_count": null,
      "outputs": []
    },
    {
      "cell_type": "markdown",
      "metadata": {
        "id": "kDDkgCCSrFTv"
      },
      "source": [
        "・動画の再生"
      ]
    },
    {
      "cell_type": "code",
      "metadata": {
        "id": "nZ3Ud9zLgOoQ"
      },
      "source": [
        "def show_local_mp4_video(file_name, width=640, height=480):\n",
        "  import io\n",
        "  import base64\n",
        "  from IPython.display import HTML\n",
        "  video_encoded = base64.b64encode(io.open(file_name, 'rb').read())\n",
        "  return HTML(data='''<video width=\"{0}\" height=\"{1}\" alt=\"test\" controls>\n",
        "                        <source src=\"data:video/mp4;base64,{2}\" type=\"video/mp4\" />\n",
        "                      </video>'''.format(width, height, video_encoded.decode('ascii')))\n",
        "\n",
        "show_local_mp4_video('output.mp4', width=960, height=720)"
      ],
      "execution_count": null,
      "outputs": []
    }
  ]
}