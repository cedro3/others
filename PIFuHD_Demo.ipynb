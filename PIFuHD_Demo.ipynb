{
 "cells": [
  {
   "cell_type": "markdown",
   "metadata": {
    "colab_type": "text",
    "id": "view-in-github"
   },
   "source": [
    "<a href=\"https://colab.research.google.com/github/cedro3/others/blob/master/PIFuHD_Demo.ipynb\" target=\"_parent\"><img src=\"https://colab.research.google.com/assets/colab-badge.svg\" alt=\"Open In Colab\"/></a>"
   ]
  },
  {
   "cell_type": "markdown",
   "metadata": {
    "id": "WYhlsDkg1Hwb"
   },
   "source": [
    "## セットアップ"
   ]
  },
  {
   "cell_type": "code",
   "execution_count": null,
   "metadata": {
    "id": "8B1jmr82DtjG"
   },
   "outputs": [],
   "source": [
    "# ライブラリー取得\n",
    "!pip install torch==1.6.0+cu101 torchvision==0.7.0+cu101 -f https://download.pytorch.org/whl/torch_stable.html\n",
    "!pip install pytorch3d\n",
    "\n",
    "# githubからpifuhdのコードをコピー\n",
    "!git clone https://github.com/facebookresearch/pifuhd\n",
    "\n",
    "# githubからpose-estimationのコードをコピーし、学習済み重みをダウンロード\n",
    "!git clone https://github.com/Daniil-Osokin/lightweight-human-pose-estimation.pytorch.git\n",
    "%cd /content/lightweight-human-pose-estimation.pytorch/\n",
    "!wget https://download.01.org/opencv/openvino_training_extensions/models/human_pose_estimation/checkpoint_iter_370000.pth\n",
    "\n",
    "# pifuhdの学習済み重みをダンロード\n",
    "%cd /content/pifuhd/\n",
    "!sh ./scripts/download_trained_model.sh"
   ]
  },
  {
   "cell_type": "markdown",
   "metadata": {
    "id": "QvQm-A8ESKb2"
   },
   "source": [
    "## PIFuHDの実行"
   ]
  },
  {
   "cell_type": "code",
   "execution_count": null,
   "metadata": {
    "id": "jaV_7Yi8fM-B"
   },
   "outputs": [],
   "source": [
    "# 自分の画像のアップロード（このブロックを実行しなければテスト画像を使用します）\n",
    "# Google Chrome 推奨（Safariではエラーが出ます）\n",
    "%cd /content/pifuhd/sample_images\n",
    "from google.colab import files\n",
    "filename = list(files.upload().keys())[0]"
   ]
  },
  {
   "cell_type": "code",
   "execution_count": null,
   "metadata": {
    "id": "AEzmmB01SOZp"
   },
   "outputs": [],
   "source": [
    "# セッティング\n",
    "import os\n",
    "\n",
    "try:\n",
    "  image_path = '/content/pifuhd/sample_images/%s' % filename\n",
    "except:\n",
    "  image_path = '/content/pifuhd/sample_images/test.png' # example image\n",
    "image_dir = os.path.dirname(image_path)\n",
    "file_name = os.path.splitext(os.path.basename(image_path))[0]\n",
    "\n",
    "# output pathes\n",
    "obj_path = '/content/pifuhd/results/pifuhd_final/recon/result_%s_256.obj' % file_name\n",
    "out_img_path = '/content/pifuhd/results/pifuhd_final/recon/result_%s_256.png' % file_name\n",
    "video_path = '/content/pifuhd/results/pifuhd_final/recon/result_%s_256.mp4' % file_name\n",
    "video_display_path = '/content/pifuhd/results/pifuhd_final/result_%s_256_display.mp4' % file_name"
   ]
  },
  {
   "cell_type": "code",
   "execution_count": null,
   "metadata": {
    "id": "PdRcDXe38lHB"
   },
   "outputs": [],
   "source": [
    "# クロッピング\n",
    "%cd /content/lightweight-human-pose-estimation.pytorch/\n",
    "import torch\n",
    "import cv2\n",
    "import numpy as np\n",
    "from models.with_mobilenet import PoseEstimationWithMobileNet\n",
    "from modules.keypoints import extract_keypoints, group_keypoints\n",
    "from modules.load_state import load_state\n",
    "from modules.pose import Pose, track_poses\n",
    "import demo\n",
    "\n",
    "def get_rect(net, images, height_size):\n",
    "    net = net.eval()\n",
    "\n",
    "    stride = 8\n",
    "    upsample_ratio = 4\n",
    "    num_keypoints = Pose.num_kpts\n",
    "    previous_poses = []\n",
    "    delay = 33\n",
    "    for image in images:\n",
    "        rect_path = image.replace('.%s' % (image.split('.')[-1]), '_rect.txt')\n",
    "        img = cv2.imread(image, cv2.IMREAD_COLOR)\n",
    "        orig_img = img.copy()\n",
    "        orig_img = img.copy()\n",
    "        heatmaps, pafs, scale, pad = demo.infer_fast(net, img, height_size, stride, upsample_ratio, cpu=False)\n",
    "\n",
    "        total_keypoints_num = 0\n",
    "        all_keypoints_by_type = []\n",
    "        for kpt_idx in range(num_keypoints):  # 19th for bg\n",
    "            total_keypoints_num += extract_keypoints(heatmaps[:, :, kpt_idx], all_keypoints_by_type, total_keypoints_num)\n",
    "\n",
    "        pose_entries, all_keypoints = group_keypoints(all_keypoints_by_type, pafs)\n",
    "        for kpt_id in range(all_keypoints.shape[0]):\n",
    "            all_keypoints[kpt_id, 0] = (all_keypoints[kpt_id, 0] * stride / upsample_ratio - pad[1]) / scale\n",
    "            all_keypoints[kpt_id, 1] = (all_keypoints[kpt_id, 1] * stride / upsample_ratio - pad[0]) / scale\n",
    "        current_poses = []\n",
    "\n",
    "        rects = []\n",
    "        for n in range(len(pose_entries)):\n",
    "            if len(pose_entries[n]) == 0:\n",
    "                continue\n",
    "            pose_keypoints = np.ones((num_keypoints, 2), dtype=np.int32) * -1\n",
    "            valid_keypoints = []\n",
    "            for kpt_id in range(num_keypoints):\n",
    "                if pose_entries[n][kpt_id] != -1.0:  # keypoint was found\n",
    "                    pose_keypoints[kpt_id, 0] = int(all_keypoints[int(pose_entries[n][kpt_id]), 0])\n",
    "                    pose_keypoints[kpt_id, 1] = int(all_keypoints[int(pose_entries[n][kpt_id]), 1])\n",
    "                    valid_keypoints.append([pose_keypoints[kpt_id, 0], pose_keypoints[kpt_id, 1]])\n",
    "            valid_keypoints = np.array(valid_keypoints)\n",
    "            \n",
    "            if pose_entries[n][10] != -1.0 or pose_entries[n][13] != -1.0:\n",
    "              pmin = valid_keypoints.min(0)\n",
    "              pmax = valid_keypoints.max(0)\n",
    "\n",
    "              center = (0.5 * (pmax[:2] + pmin[:2])).astype(np.int)\n",
    "              radius = int(0.65 * max(pmax[0]-pmin[0], pmax[1]-pmin[1]))\n",
    "            elif pose_entries[n][10] == -1.0 and pose_entries[n][13] == -1.0 and pose_entries[n][8] != -1.0 and pose_entries[n][11] != -1.0:\n",
    "              # if leg is missing, use pelvis to get cropping\n",
    "              center = (0.5 * (pose_keypoints[8] + pose_keypoints[11])).astype(np.int)\n",
    "              radius = int(1.45*np.sqrt(((center[None,:] - valid_keypoints)**2).sum(1)).max(0))\n",
    "              center[1] += int(0.05*radius)\n",
    "            else:\n",
    "              center = np.array([img.shape[1]//2,img.shape[0]//2])\n",
    "              radius = max(img.shape[1]//2,img.shape[0]//2)\n",
    "\n",
    "            x1 = center[0] - radius\n",
    "            y1 = center[1] - radius\n",
    "\n",
    "            rects.append([x1, y1, 2*radius, 2*radius])\n",
    "\n",
    "        np.savetxt(rect_path, np.array(rects), fmt='%d')\n",
    "\n",
    "net = PoseEstimationWithMobileNet()\n",
    "checkpoint = torch.load('checkpoint_iter_370000.pth', map_location='cpu')\n",
    "load_state(net, checkpoint)\n",
    "\n",
    "get_rect(net.cuda(), [image_path], 512)"
   ]
  },
  {
   "cell_type": "code",
   "execution_count": null,
   "metadata": {
    "id": "5995t2PnQTmG"
   },
   "outputs": [],
   "source": [
    "# レンダリング\n",
    "%cd /content/pifuhd/\n",
    "!python -m apps.simple_test -r 256 --use_rect -i $image_dir"
   ]
  },
  {
   "cell_type": "code",
   "execution_count": null,
   "metadata": {
    "id": "afwL_-ROCmDf"
   },
   "outputs": [],
   "source": [
    "# mp4の作成\n",
    "from lib.colab_util import generate_video_from_obj, set_renderer, video\n",
    "\n",
    "renderer = set_renderer()\n",
    "generate_video_from_obj(obj_path, out_img_path, video_path, renderer)\n",
    "\n",
    "# we cannot play a mp4 video generated by cv2\n",
    "!ffmpeg -i $video_path -vcodec libx264 $video_display_path -y -loglevel quiet\n",
    "video(video_display_path)"
   ]
  }
 ],
 "metadata": {
  "accelerator": "GPU",
  "colab": {
   "collapsed_sections": [],
   "include_colab_link": true,
   "name": "PIFuHD Demo",
   "provenance": [],
   "toc_visible": true
  },
  "kernelspec": {
   "display_name": "Python 3",
   "language": "python",
   "name": "python3"
  },
  "language_info": {
   "codemirror_mode": {
    "name": "ipython",
    "version": 3
   },
   "file_extension": ".py",
   "mimetype": "text/x-python",
   "name": "python",
   "nbconvert_exporter": "python",
   "pygments_lexer": "ipython3",
   "version": "3.7.9"
  }
 },
 "nbformat": 4,
 "nbformat_minor": 1
}
