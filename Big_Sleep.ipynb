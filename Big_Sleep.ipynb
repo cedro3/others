{
  "nbformat": 4,
  "nbformat_minor": 0,
  "metadata": {
    "colab": {
      "name": "Big Sleep",
      "provenance": [],
      "collapsed_sections": [],
      "toc_visible": true,
      "include_colab_link": true
    },
    "kernelspec": {
      "name": "python3",
      "display_name": "Python 3"
    },
    "accelerator": "GPU"
  },
  "cells": [
    {
      "cell_type": "markdown",
      "metadata": {
        "id": "view-in-github",
        "colab_type": "text"
      },
      "source": [
        "<a href=\"https://colab.research.google.com/github/cedro3/others/blob/master/Big_Sleep.ipynb\" target=\"_parent\"><img src=\"https://colab.research.google.com/assets/colab-badge.svg\" alt=\"Open In Colab\"/></a>"
      ]
    },
    {
      "cell_type": "markdown",
      "metadata": {
        "id": "w5HPIGUSA9jf"
      },
      "source": [
        "# セットアップ"
      ]
    },
    {
      "cell_type": "code",
      "metadata": {
        "id": "9c-dAOUylyYt"
      },
      "source": [
        "# 接続GPUのチェック\n",
        "! nvidia-smi -L"
      ],
      "execution_count": null,
      "outputs": []
    },
    {
      "cell_type": "code",
      "metadata": {
        "id": "D2jUsCZXaqcw"
      },
      "source": [
        "# big-sleep インストール\n",
        "!pip install big-sleep --upgrade"
      ],
      "execution_count": null,
      "outputs": []
    },
    {
      "cell_type": "markdown",
      "metadata": {
        "id": "E232NSiQBi6X"
      },
      "source": [
        "# テキストから画像生成"
      ]
    },
    {
      "cell_type": "code",
      "metadata": {
        "id": "2_JetNvHCP6l"
      },
      "source": [
        "TEXT = 'an armchair in the shape of an avocado' "
      ],
      "execution_count": null,
      "outputs": []
    },
    {
      "cell_type": "code",
      "metadata": {
        "id": "NfJ0RMCAauV3"
      },
      "source": [
        "from tqdm.notebook import trange\n",
        "from IPython.display import Image, display\n",
        "from big_sleep import Imagine\n",
        "import random\n",
        "\n",
        "# パラメータ設定\n",
        "SAVE_EVERY = 100 \n",
        "SAVE_PROGRESS = False \n",
        "LEARNING_RATE = 8e-2  \n",
        "ITERATIONS = 1050 \n",
        "SEED = random.randint(0, 10000) \n",
        "\n",
        "# モデルセッティング\n",
        "model = Imagine(\n",
        "    text = TEXT,\n",
        "    save_every = SAVE_EVERY,\n",
        "    lr = LEARNING_RATE,\n",
        "    iterations = ITERATIONS,\n",
        "    save_progress = SAVE_PROGRESS,\n",
        "    seed = SEED\n",
        ")\n",
        "\n",
        "# 探索ループ\n",
        "for epoch in range(1):\n",
        "    for i in trange(1000, desc = 'iteration'):\n",
        "        model.train_step(epoch, i)\n",
        "\n",
        "        if i == 0 or i % model.save_every != 0:\n",
        "            continue\n",
        "\n",
        "        filename = TEXT.replace(' ', '_')\n",
        "        image = Image(f'./{filename}.png')\n",
        "        display(image)"
      ],
      "execution_count": null,
      "outputs": []
    }
  ]
}