{
  "nbformat": 4,
  "nbformat_minor": 0,
  "metadata": {
    "accelerator": "GPU",
    "colab": {
      "name": "CLIP_search",
      "provenance": [],
      "collapsed_sections": [],
      "toc_visible": true,
      "include_colab_link": true
    },
    "kernelspec": {
      "display_name": "Python 3",
      "language": "python",
      "name": "python3"
    },
    "language_info": {
      "codemirror_mode": {
        "name": "ipython",
        "version": 3
      },
      "file_extension": ".py",
      "mimetype": "text/x-python",
      "name": "python",
      "nbconvert_exporter": "python",
      "pygments_lexer": "ipython3",
      "version": "3.7.9"
    }
  },
  "cells": [
    {
      "cell_type": "markdown",
      "metadata": {
        "id": "view-in-github",
        "colab_type": "text"
      },
      "source": [
        "<a href=\"https://colab.research.google.com/github/cedro3/others/blob/master/CLIP_search.ipynb\" target=\"_parent\"><img src=\"https://colab.research.google.com/assets/colab-badge.svg\" alt=\"Open In Colab\"/></a>"
      ]
    },
    {
      "cell_type": "markdown",
      "metadata": {
        "id": "EXnkFjoZy9kd"
      },
      "source": [
        "# セットアップ"
      ]
    },
    {
      "cell_type": "code",
      "metadata": {
        "id": "itUEF1Ltb5r3"
      },
      "source": [
        "# Pytorchバージョン変更\n",
        "! pip install torch==1.7.1+cu110 torchvision==0.8.2+cu110 -f https://download.pytorch.org/whl/torch_stable.html \n",
        "\n",
        "# CLIP関連コードのコピー\n",
        "! git clone https://github.com/openai/CLIP.git\n",
        "%cd /content/CLIP/\n",
        "\n",
        "# CLIPのモデル化\n",
        "! pip install ftfy regex\n",
        "import clip\n",
        "model, preprocess = clip.load('ViT-B/32', jit=True)  \n",
        "model = model.eval()  \n",
        "\n",
        "# サンプル画像ダウンロード\n",
        "import gdown\n",
        "gdown.download('https://drive.google.com/uc?id=1xIYYYzw9aZhjhyjMM12nz4XjnWUzpp6v', 'img.zip', quiet=False)\n",
        "! unzip img.zip"
      ],
      "execution_count": null,
      "outputs": []
    },
    {
      "cell_type": "markdown",
      "metadata": {
        "id": "6H6tX85TKA0n"
      },
      "source": [
        "# 検索する画像の読み込み\n"
      ]
    },
    {
      "cell_type": "code",
      "metadata": {
        "id": "d6cpiIFHp9N6"
      },
      "source": [
        "# --- 画像の前処理 ----\n",
        "import torch\n",
        "import numpy as np\n",
        "from torchvision.transforms import Compose, Resize, CenterCrop, ToTensor, Normalize\n",
        "from PIL import Image\n",
        "import glob\n",
        "from tqdm import tqdm\n",
        "\n",
        "# 前処理設定\n",
        "preprocess = Compose([\n",
        "    Resize(224, interpolation=Image.BICUBIC),\n",
        "    CenterCrop(224),\n",
        "    ToTensor()\n",
        "])\n",
        "image_mean = torch.tensor([0.48145466, 0.4578275, 0.40821073]).cuda()\n",
        "image_std = torch.tensor([0.26862954, 0.26130258, 0.27577711]).cuda()\n",
        "\n",
        "\n",
        "# 画像の読み込み\n",
        "images =[]\n",
        "files = glob.glob('./img/*.png')\n",
        "files.sort()\n",
        "\n",
        "for i, file in enumerate(tqdm(files)):\n",
        "      image = preprocess(Image.open(file).convert(\"RGB\"))\n",
        "      images.append(image)\n",
        "\n",
        "image_input = torch.tensor(np.stack(images)).cuda()\n",
        "image_input -= image_mean[:, None, None]\n",
        "image_input /= image_std[:, None, None]\n",
        "\n",
        "print('image_input.shape = ', image_input.shape)"
      ],
      "execution_count": null,
      "outputs": []
    },
    {
      "cell_type": "markdown",
      "metadata": {
        "id": "L_uKiB2nKQJX"
      },
      "source": [
        "# 検索テキストの入力\n"
      ]
    },
    {
      "cell_type": "code",
      "metadata": {
        "id": "C4S__zCGy2MT"
      },
      "source": [
        "text = 'She is a charming woman with blonde hair and blue eyes'\n",
        "text_input = clip.tokenize(text)\n",
        "text_input = text_input.cuda()\n",
        "\n",
        "print('text_input = ', text_input)\n",
        "print('text_input.shape = ', text_input.shape)"
      ],
      "execution_count": null,
      "outputs": []
    },
    {
      "cell_type": "markdown",
      "metadata": {
        "id": "2u4oePsAKdJO"
      },
      "source": [
        "# 画像とテキストのcos類似度の計算\n",
        "\n"
      ]
    },
    {
      "cell_type": "code",
      "metadata": {
        "id": "iqjF6NbBCT0a"
      },
      "source": [
        "# --- 画像とテキストのCOS類似度の計算 ----\n",
        "\n",
        "# 特徴ベクトルを抽出\n",
        "with torch.no_grad():\n",
        "    image_features = model.encode_image(image_input).float()\n",
        "    text_features = model.encode_text(text_input).float()\n",
        "    text_features /= text_features.norm(dim=-1, keepdim=True) \n",
        "\n",
        "# COS類似度を計算\n",
        "text_probs = torch.cosine_similarity(image_features, text_features)\n",
        "\n",
        "print('image_features.shape = ', image_features.shape)\n",
        "print('text_features.shape = ', text_features.shape)\n",
        "print('text_probs.shape = ', text_probs.shape)"
      ],
      "execution_count": null,
      "outputs": []
    },
    {
      "cell_type": "markdown",
      "metadata": {
        "id": "OIM5PWmSKlVm"
      },
      "source": [
        "# 検索結果の表示"
      ]
    },
    {
      "cell_type": "code",
      "metadata": {
        "id": "LxPbA0_ScWUk"
      },
      "source": [
        "# --- 検索結果の表示 ---\n",
        "\n",
        "import matplotlib.pyplot as plt\n",
        "\n",
        "# 検索テキスト表示\n",
        "print('text = ', text)\n",
        "print()\n",
        "\n",
        "# COS類似度の高い順にインデックスをソート\n",
        "x = np.argsort(-text_probs.cpu(), axis=0)\n",
        "\n",
        "# COS類似度TOP３を表示\n",
        "fig = plt.figure(figsize=(30, 40))\n",
        "for i in range(3):\n",
        "    name = str(x[i].item()).zfill(6)+'.png'\n",
        "    img = Image.open('./img/'+name)    \n",
        "    images = np.asarray(img)\n",
        "    ax = fig.add_subplot(10, 10, i+1, xticks=[], yticks=[])\n",
        "    image_plt = np.array(images)\n",
        "    ax.imshow(image_plt)\n",
        "    cos_value = round(text_probs[x[i].item()].item(), 3)\n",
        "    ax.set_xlabel(cos_value, fontsize=12)               \n",
        "plt.show()\n",
        "plt.close()  "
      ],
      "execution_count": null,
      "outputs": []
    }
  ]
}