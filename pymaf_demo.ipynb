{
  "nbformat": 4,
  "nbformat_minor": 0,
  "metadata": {
    "accelerator": "GPU",
    "colab": {
      "name": "pymaf_demo",
      "provenance": [],
      "collapsed_sections": [],
      "toc_visible": true,
      "include_colab_link": true
    },
    "kernelspec": {
      "display_name": "Python 3",
      "name": "python3"
    },
    "language_info": {
      "name": "python"
    }
  },
  "cells": [
    {
      "cell_type": "markdown",
      "metadata": {
        "id": "view-in-github",
        "colab_type": "text"
      },
      "source": [
        "<a href=\"https://colab.research.google.com/github/cedro3/others/blob/master/pymaf_demo.ipynb\" target=\"_parent\"><img src=\"https://colab.research.google.com/assets/colab-badge.svg\" alt=\"Open In Colab\"/></a>"
      ]
    },
    {
      "cell_type": "markdown",
      "metadata": {
        "id": "mryOv98_qlod"
      },
      "source": [
        "# セットアップ"
      ]
    },
    {
      "cell_type": "code",
      "metadata": {
        "id": "TzS8Y_oIWzNt"
      },
      "source": [
        "# GPUチェッック\n",
        "!nvidia-smi -L"
      ],
      "execution_count": null,
      "outputs": []
    },
    {
      "cell_type": "code",
      "metadata": {
        "id": "Plo2YZZmaDtY",
        "collapsed": true
      },
      "source": [
        "# githubからコードを取得\n",
        "! git clone https://github.com/HongwenZhang/PyMAF.git\n",
        "%cd PyMAF\n",
        "\n",
        "# 必要なファイルをダウンロード\n",
        "! pip install --upgrade gdown\n",
        "import gdown\n",
        "gdown.download('https://drive.google.com/u/1/uc?id=1XvE73SWbwYMoPTZncmHGwipbsrE4-zyq', 'pymaf.zip', quiet=False)\n",
        "! unzip pymaf.zip\n",
        "! rm pymaf.zip\n",
        "\n",
        "# pytorchバージョン変更\n",
        "! pip install -U https://download.pytorch.org/whl/cu100/torch-1.1.0-cp37-cp37m-linux_x86_64.whl\n",
        "! pip install -U https://download.pytorch.org/whl/cu100/torchvision-0.3.0-cp37-cp37m-linux_x86_64.whl\n",
        "\n",
        "# ライブラリーインストール\n",
        "! pip install -r requirements.txt\n",
        "! pip install imageio==2.4.1\n",
        "! pip install pyglet==1.5.27"
      ],
      "execution_count": null,
      "outputs": []
    },
    {
      "cell_type": "markdown",
      "metadata": {
        "id": "dXa9qrbwqwuA"
      },
      "source": [
        "# 3Dポーズ推定"
      ]
    },
    {
      "cell_type": "code",
      "metadata": {
        "id": "KmHCtKpHqt9V"
      },
      "source": [
        "! python3 demo.py --checkpoint=data/pretrained_model/PyMAF_model_checkpoint.pt\\\n",
        "                  --vid_file ./dance.mp4"
      ],
      "execution_count": null,
      "outputs": []
    },
    {
      "cell_type": "code",
      "metadata": {
        "id": "mwlxnPuCxxqD"
      },
      "source": [
        "# Play the generated video\n",
        "from IPython.display import HTML\n",
        "from base64 import b64encode\n",
        "\n",
        "def video(path):\n",
        "  mp4 = open(path,'rb').read()\n",
        "  data_url = \"data:video/mp4;base64,\" + b64encode(mp4).decode()\n",
        "  return HTML('<video width=500 controls loop> <source src=\"%s\" type=\"video/mp4\"></video>' % data_url)\n",
        "\n",
        "video('output/dance/dance_result.mp4')"
      ],
      "execution_count": null,
      "outputs": []
    },
    {
      "cell_type": "markdown",
      "metadata": {
        "id": "2SnSeng37gpg"
      },
      "source": [
        "# フレームレート調整"
      ]
    },
    {
      "cell_type": "code",
      "metadata": {
        "id": "THTbfAFNutBn"
      },
      "source": [
        "! ffmpeg -r 30 -i output/dance/dance_mp4_output/%6d.png\\\n",
        "               -vcodec libx264 -pix_fmt yuv420p out_dance.mp4"
      ],
      "execution_count": null,
      "outputs": []
    },
    {
      "cell_type": "code",
      "metadata": {
        "id": "5VQv5qu2vsAc"
      },
      "source": [
        "# Play the generated video\n",
        "from IPython.display import HTML\n",
        "from base64 import b64encode\n",
        "\n",
        "def video(path):\n",
        "  mp4 = open(path,'rb').read()\n",
        "  data_url = \"data:video/mp4;base64,\" + b64encode(mp4).decode()\n",
        "  return HTML('<video width=500 controls loop> <source src=\"%s\" type=\"video/mp4\"></video>' % data_url)\n",
        "\n",
        "video('out_dance.mp4')"
      ],
      "execution_count": null,
      "outputs": []
    }
  ]
}
